{
 "cells": [
  {
   "cell_type": "code",
   "execution_count": null,
   "metadata": {},
   "outputs": [],
   "source": [
    "import Levenshtein as lev\n",
    "import requests\n",
    "import json\n",
    "import math\n",
    "import numpy as np\n",
    "import time\n",
    "import pandas as pd\n",
    "from secrets import *"
   ]
  },
  {
   "cell_type": "code",
   "execution_count": 2,
   "metadata": {},
   "outputs": [],
   "source": [
    "post_request = requests.post(url = 'https://id.twitch.tv/oauth2/token', params = {\n",
    "    'client_id':client_id, 'client_secret':client_secret, 'grant_type': 'client_credentials'\n",
    "})"
   ]
  },
  {
   "cell_type": "code",
   "execution_count": 3,
   "metadata": {},
   "outputs": [],
   "source": [
    "access_token = json.loads(post_request.text)['access_token']"
   ]
  },
  {
   "cell_type": "code",
   "execution_count": null,
   "metadata": {},
   "outputs": [],
   "source": [
    "# gather igdb data\n",
    "game_list = []\n",
    "for i in range(430):\n",
    "    data = requests.post(url = 'https://api.igdb.com/v4/games', headers={'Client-ID':client_id, 'Authorization':f\"Bearer {access_token}\"}, params={'limit': '500', 'offset': f\"{i*500}\", 'fields': '*'})\n",
    "    temp_list = json.loads(data.text)\n",
    "    game_list.extend(temp_list)\n",
    "    if i % 5 == 0:\n",
    "        time.sleep(1)\n",
    "    print(i)"
   ]
  },
  {
   "cell_type": "code",
   "execution_count": null,
   "metadata": {},
   "outputs": [],
   "source": [
    "# making igdb csv\n",
    "game_list_np = np.array(game_list)\n",
    "DF = pd.json_normalize(game_list_np)\n",
    "DF.head()\n",
    "DF.to_csv('igdb_games.csv') "
   ]
  },
  {
   "cell_type": "code",
   "execution_count": null,
   "metadata": {},
   "outputs": [],
   "source": [
    "# building csv of rawg databse\n",
    "rawg_game_list = []\n",
    "for i in range (0,20025): \n",
    "    data = requests.get(url = 'https://api.rawg.io/api/games', params={'key':rawg_api_key,'page':i,'page_size':'40'})\n",
    "    rawg_temp_list = json.loads(data.text)['results']\n",
    "    rawg_game_list.extend(rawg_temp_list)\n",
    "    if (i % 500 == 0):\n",
    "        print(i)\n",
    "        rawg_game_list_np = np.array(rawg_game_list)\n",
    "        DF = pd.json_normalize(rawg_game_list_np)\n",
    "        DF.to_csv(f\"rawg_games_{i}.csv\")    "
   ]
  },
  {
   "cell_type": "code",
   "execution_count": null,
   "metadata": {},
   "outputs": [],
   "source": [
    "# creating full csv file\n",
    "DF1 = pd.read_csv('rawg_games_10000.csv')\n",
    "DF1 = DF1.drop('Unnamed: 0', axis = 1)\n",
    "DF1 = DF1.drop_duplicates()\n",
    "DF2 = pd.read_csv('rawg_games_20024.csv').drop('Unnamed: 0', axis = 1).drop_duplicates()\n",
    "DF1.columns\n",
    "DF2.columns\n",
    "df_full = pd.concat([DF1, DF2], axis = 0)\n",
    "df_full = df_full.drop_duplicates()\n",
    "df_full.columns\n",
    "df_full = df_full.reset_index()\n",
    "df_full = df_full.drop('index', axis = 1)\n",
    "df_full.to_csv('rawg_games_full.csv')"
   ]
  },
  {
   "cell_type": "code",
   "execution_count": null,
   "metadata": {},
   "outputs": [
    {
     "name": "stderr",
     "output_type": "stream",
     "text": [
      "C:\\Users\\Grayson Kornberg\\AppData\\Local\\Temp\\ipykernel_9868\\924709412.py:1: DtypeWarning: Columns (56) have mixed types. Specify dtype option on import or set low_memory=False.\n",
      "  igdb_games_df = pd.read_csv('igdb_games.csv', index_col=[0])\n"
     ]
    }
   ],
   "source": [
    "#load full datasets\n",
    "igdb_games_df = pd.read_csv('igdb_games.csv', index_col=[0])\n",
    "rawg_games_df = pd.read_csv('rawg_games_full.csv', index_col=[0])"
   ]
  },
  {
   "cell_type": "code",
   "execution_count": 55,
   "metadata": {},
   "outputs": [],
   "source": [
    "#unneeded columns\n",
    "igdb_drop_fields = ['category','created_at','updated_at','checksum','involved_companies','player_perspectives','themes','websites','game_engines','keywords','status','collection','franchises','videos', 'version_parent', 'version_title','aggregated_rating', 'aggregated_rating_count','alternative_names', 'follows', 'franchise','rating','rating_count','ports','artworks', 'storyline', 'hypes', 'multiplayer_modes', 'game_localizations', 'parent_game', 'bundles', 'standalone_expansions', 'remasters' ,'remakes', 'expansions', 'expanded_games', 'dlcs', 'forks','external_games','release_dates','screenshots','game_modes']\n",
    "rawg_drop_fields = ['tba','rating_top','ratings','reviews_text_count','metacritic','playtime','suggestions_count','updated','user_game','reviews_count','saturated_color','dominant_color','parent_platforms','stores','clip','short_screenshots','esrb_rating.id','esrb_rating.slug','esrb_rating','community_rating','added_by_status','added']"
   ]
  },
  {
   "cell_type": "code",
   "execution_count": 12,
   "metadata": {},
   "outputs": [],
   "source": [
    "#keeps track of already found ids in api calls\n",
    "themes = {}\n",
    "keywords = {}\n",
    "games = {}\n",
    "player_perspectives = {}\n",
    "genres = {}\n",
    "platforms = {}\n",
    "age_ratings = {}\n",
    "covers = {}"
   ]
  },
  {
   "cell_type": "code",
   "execution_count": 29,
   "metadata": {},
   "outputs": [],
   "source": [
    "#functions for transforming both datasets to have similar data/do api calls\n",
    "def genres_str_to_list(str):\n",
    "    genre_list = []\n",
    "    for i in eval(str):\n",
    "        genre_list.append(i['name'])\n",
    "    return genre_list\n",
    "def genre_id_list_to_str_list(ids):\n",
    "    if (type(ids) == float and math.isnan(ids)):\n",
    "        return None\n",
    "    genre_list = []\n",
    "    for id in eval(ids):\n",
    "        if (id in genres):\n",
    "            genre_list.append(genres[id])\n",
    "        else:\n",
    "            data = requests.post(url = 'https://api.igdb.com/v4/genres', headers={'Client-ID':client_id, 'Authorization':f\"Bearer {access_token}\"}, params={'fields': f\"name; where id = ({id})\"})\n",
    "            name = json.loads(data.text)[0]['name']\n",
    "            genre_list.append(name)\n",
    "            genres[id] = name\n",
    "    return genre_list\n",
    "def platform_str_to_list(platforms):\n",
    "    platform_list = []\n",
    "    for platform in eval(platforms):\n",
    "        platform_list.append(platform['platform']['name'])\n",
    "    return platform_list\n",
    "def platform_id_to_list(ids):\n",
    "    if (type(ids) == float and math.isnan(ids)):\n",
    "        return None\n",
    "    platform_list = []\n",
    "    for id in eval(ids):\n",
    "        if id in platforms:\n",
    "            platform_list.append(platforms[id])\n",
    "        else:\n",
    "            data = requests.post(url = 'https://api.igdb.com/v4/platforms', headers={'Client-ID':client_id, 'Authorization':f\"Bearer {access_token}\"}, params={'fields': f\"name; where id = ({id})\"})\n",
    "            name = json.loads(data.text)\n",
    "            if len(name) > 0:\n",
    "                name = name[0]['name']\n",
    "                platform_list.append(name)\n",
    "                platforms[id] = name\n",
    "    return platform_list\n",
    "def tag_str_to_tags_list(tags):\n",
    "    tag_list = []\n",
    "    for tag in eval(tags):\n",
    "        tag_list.append(tag['name'])\n",
    "    return tag_list\n",
    "def tag_hash_to_tag_list(tags):\n",
    "    if (type(tags) == float and math.isnan(tags)):\n",
    "        return None\n",
    "    if tags == None:\n",
    "        return None\n",
    "    tags_list = []\n",
    "    tags_ids = {0:[],1:[],2:[],3:[],4:[]}\n",
    "    types = {0:'themes',1:'genres',2:'keywords',3:'games',4:'player_perspectives'}\n",
    "    for tag in eval(tags):\n",
    "        keywordID = tag & (1 << 28) - 1\n",
    "        keywordTypeID = ((tag >> 28) & 15)\n",
    "        if keywordID in eval(types[keywordTypeID]):\n",
    "            tags_list.append(eval(types[keywordTypeID])[keywordID])\n",
    "        else:\n",
    "            tags_ids[keywordTypeID].append(str(keywordID))\n",
    "    for i in range(5):\n",
    "        if len(tags_ids[i]) > 0:\n",
    "            id_str = ','.join(tags_ids[i])\n",
    "            data = requests.post(url = f\"https://api.igdb.com/v4/{types[i]}\", headers={'Client-ID':client_id, 'Authorization':f\"Bearer {access_token}\"}, params={'fields': f\"name; where id = ({id_str})\"})\n",
    "            name = json.loads(data.text)\n",
    "            for tag_name in name:\n",
    "                tags_list.append(tag_name['name'])\n",
    "                eval(types[i])[int(tag_name['id'])] = tag_name['name']\n",
    "    return tags_list\n",
    "ratings_enum = {1:'Early Childhood',2:'Everyone',3:'Everyone 10+',4:'Teen',5:'Mature',6:'Rating Pending',7:'Early Childhood',8:'Everyone',9:'Everyone 10+',10:'Teen',11:'Mature',12:'Adults Only',13:'Everyone',14:'Everyone 10+',15:'Teen',16:'Teen',17:'Mature',18:'Everyone',19:'Early Childhood',20:'Everyone 10+',21:'Mature',22:'Everyone',23:'Everyone 10+',24:'Teen',25: 'Mature',26:'Rating Pending',27:'Everyone',28:'Everyone 10+',29:'Everyone 10+',30:'Teen',31:'Teen',32:'Mature',33:'Everyone',34:'Everyone 10+',35:'Teen',36:'Mature',37:'Mature',38:'Rating Pending'}\n",
    "def age_rating_str_to_list(age_rating_str):\n",
    "    if (type(age_rating_str) == float and math.isnan(age_rating_str)):\n",
    "        return ['Rating Pending']\n",
    "    age_rating_number = eval(age_rating_str)[0]\n",
    "    if age_rating_number in age_ratings:\n",
    "        return age_ratings[age_rating_number]\n",
    "    data = requests.post(url = f\"https://api.igdb.com/v4/age_ratings\", headers={'Client-ID':client_id, 'Authorization':f\"Bearer {access_token}\"}, params={'fields': f\"rating; where id = ({age_rating_number})\"})\n",
    "    rating_name = json.loads(data.text)\n",
    "    rating_name = rating_name[0] if len(rating_name) > 0 else {'rating':39}\n",
    "    if rating_name['rating'] > 38:\n",
    "        return 'Rating Pending'\n",
    "    else:\n",
    "        age_ratings[int(rating_name['id'])] = ratings_enum[rating_name['rating']]\n",
    "        return ratings_enum[rating_name['rating']]\n",
    "def cover_id_to_uri(cover_id):\n",
    "    if (math.isnan(cover_id)):\n",
    "        return None\n",
    "    cover_id = int(cover_id)\n",
    "    if cover_id in covers:\n",
    "        return covers[cover_id]\n",
    "    data = requests.post(url = f\"https://api.igdb.com/v4/covers\", headers={'Client-ID':client_id, 'Authorization':f\"Bearer {access_token}\"}, params={'fields': f\"url; where id = ({cover_id})\"})\n",
    "    url = json.loads(data.text)\n",
    "    if (len(url) > 0):\n",
    "        url = url[0]['url']\n",
    "        covers[cover_id] = 'https:' + url\n",
    "        return 'https:' + url\n",
    "    else:\n",
    "        return None"
   ]
  },
  {
   "cell_type": "code",
   "execution_count": 680,
   "metadata": {},
   "outputs": [],
   "source": [
    "#apply functions to datasets to transform them\n",
    "igdb_games_df_reduced = igdb_games_df.drop(igdb_drop_fields, axis = 1)\n",
    "rawg_games_df_reduced = rawg_games_df.drop(rawg_drop_fields, axis = 1)\n",
    "rawg_games_df_reduced = rawg_games_df_reduced[rawg_games_df_reduced['ratings_count'] != 0].reset_index()\n",
    "igdb_games_df_reduced = igdb_games_df_reduced[igdb_games_df_reduced['total_rating_count'].notnull()].reset_index()\n",
    "igdb_games_df_reduced['released'] = pd.to_datetime(igdb_games_df_reduced['first_release_date'], unit = 's').dt.strftime('%Y-%m-%d')\n",
    "igdb_games_df_reduced = igdb_games_df_reduced.drop('first_release_date', axis = 1)\n",
    "igdb_games_df_reduced = igdb_games_df_reduced.drop('game_modes', axis = 1)\n",
    "rawg_games_df_reduced['genres'] = rawg_games_df_reduced['genres'].apply(genres_str_to_list)\n",
    "igdb_games_df_reduced['genres'] = igdb_games_df_reduced['genres'].apply(genre_id_list_to_str_list)\n",
    "rawg_games_df_reduced['platforms'] = rawg_games_df_reduced['platforms'].apply(platform_str_to_list)\n",
    "igdb_games_df_reduced['platforms'] = igdb_games_df_reduced['platforms'].apply(platform_id_to_list)\n",
    "rawg_games_df_reduced['tags'] = rawg_games_df_reduced['tags'].apply(tag_str_to_tags_list)\n",
    "igdb_games_df_reduced['tags'] = igdb_games_df_reduced['tags'].apply(tag_hash_to_tag_list)\n",
    "igdb_games_df_reduced['age_ratings'] = igdb_games_df_reduced['age_ratings'].apply(age_rating_str_to_list)\n",
    "rawg_games_df_reduced['rating'] = rawg_games_df_reduced['rating'] * 20\n",
    "igdb_games_df_reduced['cover'] = igdb_games_df_reduced['cover'].apply(cover_id_to_uri)\n",
    "igdb_games_df_reduced.to_csv('igdb_games_reduced.csv')\n",
    "rawg_games_df_reduced.to_csv('rawg_games_reduced.csv')"
   ]
  },
  {
   "cell_type": "code",
   "execution_count": 4,
   "metadata": {},
   "outputs": [
    {
     "name": "stderr",
     "output_type": "stream",
     "text": [
      "C:\\Users\\Grayson Kornberg\\AppData\\Local\\Temp\\ipykernel_7844\\404466041.py:4: DtypeWarning: Columns (56) have mixed types. Specify dtype option on import or set low_memory=False.\n",
      "  igdb_games_df = pd.read_csv('igdb_games.csv', index_col=[0])\n",
      "C:\\Users\\Grayson Kornberg\\AppData\\Local\\Temp\\ipykernel_7844\\404466041.py:8: DtypeWarning: Columns (10,12,16) have mixed types. Specify dtype option on import or set low_memory=False.\n",
      "  combined_df = pd.read_csv('combined_df.csv', index_col=[0])\n"
     ]
    }
   ],
   "source": [
    "#load the reduced datasets and steamdb and similarities\n",
    "rawg_games_df_reduced = pd.read_csv('rawg_games_reduced.csv',index_col=[0])\n",
    "igdb_games_df_reduced = pd.read_csv('igdb_games_reduced.csv',index_col=[0])\n",
    "igdb_games_df = pd.read_csv('igdb_games.csv', index_col=[0])\n",
    "steamdb_df = pd.read_csv('steamdb-scrape.csv', index_col=[0])\n",
    "similarities_df = pd.read_csv('similarities.csv', index_col=[0])\n",
    "more_similarities_df = pd.read_csv('more_similarities.csv', index_col=[0])\n",
    "combined_df = pd.read_csv('combined_df.csv', index_col=[0])"
   ]
  },
  {
   "cell_type": "code",
   "execution_count": 212,
   "metadata": {},
   "outputs": [
    {
     "data": {
      "text/plain": [
       "32347"
      ]
     },
     "execution_count": 212,
     "metadata": {},
     "output_type": "execute_result"
    }
   ],
   "source": [
    "# find rawg games that are in igdb database\n",
    "rawg_reduced_games_in_full_igdb = rawg_games_df_reduced[rawg_games_df_reduced.slug.isin(igdb_games_df['slug'])]['slug']\n",
    "igdb_games_df_rawg_games_only = igdb_games_df[igdb_games_df['slug'].isin(rawg_reduced_games_in_full_igdb)]"
   ]
  },
  {
   "cell_type": "code",
   "execution_count": 274,
   "metadata": {},
   "outputs": [],
   "source": [
    "# use igdb database to populate rawg columns with matching games\n",
    "def insert_similar_games(slug):\n",
    "    if type(slug) == float and math.isnan(slug):\n",
    "        return None\n",
    "    if slug in rawg_reduced_games_in_full_igdb.values:\n",
    "        similar_games = igdb_games_df_rawg_games_only[igdb_games_df_rawg_games_only['slug'] == slug]['similar_games'].values[0]\n",
    "        if type(similar_games) == float and math.isnan(similar_games):\n",
    "            return None\n",
    "        return similar_games\n",
    "rawg_games_df_reduced['similar_games'] = rawg_games_df_reduced['slug']\n",
    "rawg_games_df_reduced['similar_games'] = rawg_games_df_reduced['similar_games'].apply(insert_similar_games)\n",
    "def insert_urls(slug):\n",
    "    if type(slug) == float and math.isnan(slug):\n",
    "        return None\n",
    "    if slug in rawg_reduced_games_in_full_igdb.values:\n",
    "        url = igdb_games_df_rawg_games_only[igdb_games_df_rawg_games_only['slug'] == slug]['url'].values[0]\n",
    "        if type(url) == float and math.isnan(url):\n",
    "            return None\n",
    "        return url\n",
    "rawg_games_df_reduced['url'] = rawg_games_df_reduced['slug']\n",
    "rawg_games_df_reduced['url'] = rawg_games_df_reduced['url'].apply(insert_urls)\n",
    "def insert_summaries(slug):\n",
    "    if type(slug) == float and math.isnan(slug):\n",
    "        return None\n",
    "    if slug in rawg_reduced_games_in_full_igdb.values:\n",
    "        summary = igdb_games_df_rawg_games_only[igdb_games_df_rawg_games_only['slug'] == slug]['summary'].values[0]\n",
    "        if type(summary) == float and math.isnan(summary):\n",
    "            return None\n",
    "        return summary\n",
    "rawg_games_df_reduced['summary'] = rawg_games_df_reduced['slug']\n",
    "rawg_games_df_reduced['summary'] = rawg_games_df_reduced['summary'].apply(insert_summaries)"
   ]
  },
  {
   "cell_type": "code",
   "execution_count": 16,
   "metadata": {},
   "outputs": [],
   "source": [
    "# transform similar ids columns to show games instead of ids\n",
    "def similar_games_ids_to_games_list(games_ids):\n",
    "    if (type(games_ids) == float and math.isnan(games_ids)):\n",
    "        return None\n",
    "    games_list = []\n",
    "    for id in eval(games_ids):\n",
    "        game = igdb_games_df[igdb_games_df['id'] == id]['name'].values\n",
    "        if len(game) > 0:\n",
    "            games_list.append(game[0])\n",
    "    return games_list\n",
    "igdb_games_df_reduced['similar_games'] = igdb_games_df_reduced['similar_games'].apply(similar_games_ids_to_games_list)\n",
    "rawg_games_df_reduced['similar_games'] = rawg_games_df_reduced['similar_games'].apply(similar_games_ids_to_games_list)"
   ]
  },
  {
   "cell_type": "code",
   "execution_count": 158,
   "metadata": {},
   "outputs": [],
   "source": [
    "# these sets contain the different category names for these columns\n",
    "genres_set_rawg = set()\n",
    "genres_set_igdb = set()\n",
    "platforms_set_rawg = set()\n",
    "platforms_set_igdb = set()\n",
    "age_ratings_set_rawg = set()\n",
    "age_ratings_set_igdb = set()\n",
    "for age_rating in igdb_games_df_reduced['age_rating'].values:\n",
    "    age_ratings_set_igdb.add(age_rating)\n",
    "for age_rating in rawg_games_df_reduced['age_rating'].values:\n",
    "    age_ratings_set_rawg.add(age_rating)\n",
    "for genre_list in rawg_games_df_reduced['genres'].values:\n",
    "    for genre in genre_list:\n",
    "        genres_set_rawg.add(genre)\n",
    "for genre_list in igdb_games_df_reduced['genres'].values:\n",
    "        if type(genre_list) == list:\n",
    "            for genre in genre_list:\n",
    "                genres_set_igdb.add(genre)\n",
    "for platform_list in rawg_games_df_reduced['platforms'].values:\n",
    "    for platform in platform_list:\n",
    "        platforms_set_rawg.add(platform)\n",
    "for platform_list in igdb_games_df_reduced['platforms'].values:\n",
    "        if type(platform_list) == list:\n",
    "            for platform in platform_list:\n",
    "                platforms_set_igdb.add(platform)"
   ]
  },
  {
   "cell_type": "code",
   "execution_count": 32,
   "metadata": {},
   "outputs": [],
   "source": [
    "# adjust age_ratings, genres, and platforms to be similar for both datasets\n",
    "def age_ratings_adjust(age_rating_list):\n",
    "    if type(age_rating_list) == float:\n",
    "        return None\n",
    "    for age_rating in eval(age_rating_list):\n",
    "        return age_rating\n",
    "def genre_change(genre_list):\n",
    "    if type(genre_list) == float and math.isnan(genre_list):\n",
    "        return None\n",
    "    genres = []\n",
    "    for genre in genre_list:\n",
    "        if genre == 'Board Games' or genre == 'Card':\n",
    "            genres.append('Card & Board Game')\n",
    "        elif genre == 'Platformer':\n",
    "            genres.append('Platform')\n",
    "        elif genre == 'Role-playing (RPG)':\n",
    "            genres.append('RPG')\n",
    "        else:\n",
    "            genres.append(genre)\n",
    "    return genres\n",
    "def platform_change(platform_list):\n",
    "    if type(platform_list) == float and math.isnan(platform_list):\n",
    "        return None\n",
    "    if platform_list == None:\n",
    "        return None\n",
    "    platforms = []\n",
    "    for platform in (platform_list):\n",
    "        if platform == '3DO Interactive Multiplayer':\n",
    "            platforms.append('3DO')\n",
    "        elif platform == 'Atari ST':\n",
    "            platforms.append('Atari ST/STE')\n",
    "        elif platform == 'Classic Macintosh':\n",
    "            platforms.append('Mac')\n",
    "        elif platform == 'Amiga':\n",
    "            platforms.append('Commodore / Amiga')\n",
    "        elif platform == 'Amiga CD32':\n",
    "            platforms.append('Commodore / Amiga')\n",
    "        elif platform == 'Commodore 16':\n",
    "            platforms.append('Commodore / Amiga')\n",
    "        elif platform == 'Commodore C64/128/MAX':\n",
    "            platforms.append('Commodore / Amiga')\n",
    "        elif platform == 'Commodore CDTV':\n",
    "            platforms.append('Commodore / Amiga')\n",
    "        elif platform == 'Commodore Plus/4':\n",
    "            platforms.append('Commodore / Amiga')\n",
    "        elif platform == 'Commodore VIC-20':\n",
    "            platforms.append('Commodore / Amiga')\n",
    "        elif platform == 'Game Gear':\n",
    "            platforms.append('Sega Game Gear')\n",
    "        elif platform == 'GameCube':\n",
    "            platforms.append('Nintendo GameCube')\n",
    "        elif platform == 'Genesis':\n",
    "            platforms.append('Sega Mega Drive/Genesis')\n",
    "        elif platform == 'Jaguar':\n",
    "            platforms.append('Atari Jaguar')\n",
    "        elif platform == 'Nintendo Entertainment System':\n",
    "            platforms.append('NES')\n",
    "        elif 'Neo Geo' in platform:\n",
    "            platforms.append('Neo Geo')\n",
    "        elif platform == \"PC (Microsoft Windows)\":\n",
    "            platforms.append('PC')\n",
    "        elif platform == \"PS Vita\":\n",
    "            platforms.append('PlayStation Vita')\n",
    "        elif platform == \"PlayStation Portable\":\n",
    "            platforms.append('PSP')\n",
    "        elif platform == \"SEGA 32X\":\n",
    "            platforms.append('Sega 32X')\n",
    "        elif platform == \"SEGA CD\":\n",
    "            platforms.append('Sega CD')\n",
    "        elif platform == \"SEGA Master System\":\n",
    "            platforms.append('Sega Master System/Mark III')\n",
    "        elif platform == \"SEGA Saturn\":\n",
    "            platforms.append('Sega Saturn')\n",
    "        elif platform == \"Super Nintendo Entertainment System\":\n",
    "            platforms.append('SNES')\n",
    "        elif platform == \"Web\":\n",
    "            platforms.append('Web browser')\n",
    "        elif platform == \"Xbox Series S/X\":\n",
    "            platforms.append('Xbox Series X|S')\n",
    "        else:\n",
    "            platforms.append(platform)\n",
    "    return platforms"
   ]
  },
  {
   "cell_type": "code",
   "execution_count": null,
   "metadata": {},
   "outputs": [],
   "source": [
    "igdb_games_df_reduced['age_rating'] = igdb_games_df_reduced['age_rating'].apply(age_ratings_adjust)\n",
    "igdb_games_df_reduced['genres'] = igdb_games_df_reduced['genres'].apply(genre_change)\n",
    "rawg_games_df_reduced['genres'] = rawg_games_df_reduced['genres'].apply(genre_change)\n",
    "igdb_games_df_reduced['platforms'] = igdb_games_df_reduced['platforms'].apply(platform_change)\n",
    "rawg_games_df_reduced['platforms'] = rawg_games_df_reduced['platforms'].apply(platform_change)"
   ]
  },
  {
   "cell_type": "code",
   "execution_count": 630,
   "metadata": {},
   "outputs": [],
   "source": [
    "# enumerate duplicate names so names are unique\n",
    "duplicate_names = np.unique(igdb_games_df_reduced['name'].values, return_counts=True)[0][(np.unique(igdb_games_df_reduced['name'].values, return_counts=True)[1] != 1)]\n",
    "for i in duplicate_names:\n",
    "    duplicate_name_pair = igdb_games_df_reduced[igdb_games_df_reduced['name'] == i]\n",
    "    for j in range(duplicate_name_pair.shape[0]):\n",
    "        igdb_games_df_reduced.at[duplicate_name_pair.index[j],'name'] = i + f\"-{j}\""
   ]
  },
  {
   "cell_type": "code",
   "execution_count": 595,
   "metadata": {},
   "outputs": [],
   "source": [
    "# change slugs and names to be equal between datasets if one or is equal\n",
    "def adjust_slugs(row):\n",
    "    if row['name'] in (igdb_games_df_reduced['name'].values):\n",
    "        series_match = igdb_games_df_reduced[igdb_games_df_reduced['name'] == row['name']]\n",
    "        if series_match['release_date'].values[0] == row['release_date']:\n",
    "            return series_match['slug'].values[0]\n",
    "        else:\n",
    "            return row['slug']\n",
    "    else:\n",
    "        return row['slug']\n",
    "def adjust_names(row):\n",
    "    if row['slug'] in (igdb_games_df_reduced['slug'].values):\n",
    "        series_match = igdb_games_df_reduced[igdb_games_df_reduced['slug'] == row['slug']]\n",
    "        if series_match['release_date'].values[0] == row['release_date']:\n",
    "            return series_match['name'].values[0]\n",
    "        else:\n",
    "            return row['name']\n",
    "    else:\n",
    "        return row['name']\n",
    "rawg_games_df_reduced['new_slugs'] = rawg_games_df_reduced.apply(adjust_slugs, axis = 1)\n",
    "rawg_games_df_reduced['new_names'] = rawg_games_df_reduced.apply(adjust_names, axis = 1)"
   ]
  },
  {
   "cell_type": "code",
   "execution_count": 66,
   "metadata": {},
   "outputs": [],
   "source": [
    "# get games that overlap between both datasets\n",
    "igdb_df_overlap = igdb_games_df_reduced[igdb_games_df_reduced['slug'].isin(rawg_games_df_reduced['slug']) | igdb_games_df_reduced['name'].isin(rawg_games_df_reduced['name'])]\n",
    "rawg_df_overlap = rawg_games_df_reduced[rawg_games_df_reduced['slug'].isin(igdb_games_df_reduced['slug']) | rawg_games_df_reduced['name'].isin(igdb_games_df_reduced['name'])]"
   ]
  },
  {
   "cell_type": "code",
   "execution_count": 686,
   "metadata": {},
   "outputs": [],
   "source": [
    "# if same slug or name appears twice in a dataset, add hyphen to differentiate them because they are actually different games\n",
    "for i in (np.unique(np.append(igdb_df_overlap['slug'].values, rawg_df_overlap['new_slugs'].values), return_counts=True)[0])[(np.unique(np.append(igdb_df_overlap['slug'].values, rawg_df_overlap['new_slugs'].values), return_counts=True)[1] != 2)]:\n",
    "    if i in rawg_df_overlap['new_slugs'].values:\n",
    "        rawg_games_df_reduced.at[rawg_games_df_reduced[rawg_games_df_reduced['new_slugs'] == i].index[0],'new_names'] = i+'-'\n",
    "    else:\n",
    "        igdb_games_df_reduced.at[igdb_games_df_reduced[igdb_games_df_reduced['slug'] == i].index[0],'name'] = i+'-'\n",
    "for i in (np.unique(np.append(igdb_df_overlap['name'].values, rawg_df_overlap['new_names'].values), return_counts=True)[0])[(np.unique(np.append(igdb_df_overlap['name'].values, rawg_df_overlap['new_names'].values), return_counts=True)[1] != 2)]:\n",
    "    if i in rawg_df_overlap['new_names'].values:\n",
    "        rawg_games_df_reduced.at[rawg_games_df_reduced[rawg_games_df_reduced['new_names'] == i].index[0],'new_slugs'] = i+'-'\n",
    "    else:\n",
    "        igdb_games_df_reduced.at[igdb_games_df_reduced[igdb_games_df_reduced['name'] == i].index[0],'slug'] = i+'-'"
   ]
  },
  {
   "cell_type": "code",
   "execution_count": 704,
   "metadata": {},
   "outputs": [],
   "source": [
    "#replace slugs and names with new names\n",
    "rawg_games_df_reduced['slug'] = rawg_games_df_reduced['new_slugs']\n",
    "rawg_games_df_reduced['name'] = rawg_games_df_reduced['new_names']\n",
    "rawg_games_df_reduced = rawg_games_df_reduced.drop(['new_slugs','new_names'], axis = 1)"
   ]
  },
  {
   "cell_type": "code",
   "execution_count": 713,
   "metadata": {},
   "outputs": [],
   "source": [
    "# create adjusted ratings from overlap\n",
    "overlap_adjusted_ratings = pd.DataFrame(columns=['slug','rating','rating_count'])\n",
    "overlap_adjusted_ratings['slug'] = igdb_df_overlap['slug']\n",
    "overlap_adjusted_ratings['rating'] = igdb_df_overlap['slug']\n",
    "overlap_adjusted_ratings['ratings_count'] = igdb_df_overlap['slug']\n",
    "def adjust_ratings(slug):\n",
    "    rawg_rating = rawg_df_overlap[rawg_df_overlap['slug'] == slug]['rating'].values[0]\n",
    "    igdb_rating = igdb_df_overlap[igdb_df_overlap['slug'] == slug]['rating'].values[0]\n",
    "    rawg_rating_count = rawg_df_overlap[rawg_df_overlap['slug'] == slug]['ratings_count'].values[0]\n",
    "    igdb_rating_count = igdb_df_overlap[igdb_df_overlap['slug'] == slug]['ratings_count'].values[0]\n",
    "    if (rawg_rating_count == 0):\n",
    "        rawg_rating_count = 1\n",
    "    if igdb_rating_count == 0:\n",
    "        igdb_rating_count = 1\n",
    "    return rawg_rating if rawg_rating_count >= igdb_rating_count  and rawg_rating != 0 else igdb_rating\n",
    "def adjust_ratings_counts(slug):\n",
    "    rawg_rating_count = rawg_df_overlap[rawg_df_overlap['slug'] == slug]['ratings_count'].values[0]\n",
    "    igdb_rating_count = igdb_df_overlap[igdb_df_overlap['slug'] == slug]['ratings_count'].values[0]\n",
    "    return rawg_rating_count + igdb_rating_count if igdb_rating_count != 0 else rawg_rating_count + igdb_rating_count + 1"
   ]
  },
  {
   "cell_type": "code",
   "execution_count": null,
   "metadata": {},
   "outputs": [],
   "source": [
    "overlap_adjusted_ratings['rating'] = overlap_adjusted_ratings['rating'].apply(adjust_ratings)\n",
    "overlap_adjusted_ratings['ratings_count'] = overlap_adjusted_ratings['ratings_count'].apply(adjust_ratings_counts)\n",
    "overlap_adjusted_ratings.to_csv('overlap.csv')"
   ]
  },
  {
   "cell_type": "code",
   "execution_count": 3,
   "metadata": {},
   "outputs": [],
   "source": [
    "overlap_adjusted_ratings = pd.read_csv('overlap.csv', index_col=[0])"
   ]
  },
  {
   "cell_type": "code",
   "execution_count": 8,
   "metadata": {},
   "outputs": [],
   "source": [
    "# non overlapping games\n",
    "igdb_df_not_overlap = igdb_games_df_reduced[~igdb_games_df_reduced['slug'].isin(rawg_games_df_reduced['slug'])]\n",
    "rawg_df_not_overlap = rawg_games_df_reduced[~rawg_games_df_reduced['slug'].isin(igdb_games_df_reduced['slug'])]"
   ]
  },
  {
   "cell_type": "code",
   "execution_count": null,
   "metadata": {},
   "outputs": [],
   "source": [
    "# create combined df\n",
    "combined_df = pd.DataFrame(columns=['id_igdb','id_rawg','name','slug','rating','ratings_count','genres','image','platforms','release_date','tags','age_rating','similar_games','summary','url'])\n",
    "combined_df = combined_df.append(igdb_df_not_overlap)\n",
    "combined_df['id_igdb'] = combined_df['id']\n",
    "combined_df = combined_df.drop(['id'], axis = 1)\n",
    "combined_df = combined_df.reset_index().drop(['index'], axis = 1)\n",
    "combined_df = combined_df.append(rawg_df_not_overlap)\n",
    "combined_df['id_rawg'] = combined_df['id']\n",
    "combined_df = combined_df.drop(['id'], axis = 1)\n",
    "combined_df = combined_df.reset_index().drop(['index'], axis = 1)\n",
    "igdb_df_overlap['rating'] = igdb_df_overlap['slug'].apply(lambda x: overlap_adjusted_ratings[overlap_adjusted_ratings['slug'] == x]['rating'].values[0])\n",
    "igdb_df_overlap['ratings_count'] = igdb_df_overlap['slug'].apply(lambda x: overlap_adjusted_ratings[overlap_adjusted_ratings['slug'] == x]['ratings_count'].values[0])\n",
    "combined_df = combined_df.append(igdb_df_overlap.rename({'id':'id_igdb'},axis = 1))\n",
    "combined_df = combined_df.append(igdb_df_overlap.rename({'id':'id_igdb'},axis = 1))"
   ]
  },
  {
   "cell_type": "code",
   "execution_count": 154,
   "metadata": {},
   "outputs": [],
   "source": [
    "combined_df = pd.read_csv('combined_df.csv', index_col=[0])"
   ]
  },
  {
   "cell_type": "code",
   "execution_count": null,
   "metadata": {},
   "outputs": [],
   "source": [
    "# steamdb games that appear to not be in other datasets\n",
    "steamdb_df_game_names_unique = steamdb_df[(~steamdb_df['name'].isin(igdb_games_df_reduced['name']) & ~steamdb_df['name'].isin(rawg_games_df_reduced['name']))]['name'].values"
   ]
  },
  {
   "cell_type": "code",
   "execution_count": null,
   "metadata": {},
   "outputs": [],
   "source": [
    "# get unique names of games that are in combined dataset\n",
    "rawg_and_igdb_game_names_reduced = np.append(igdb_df_not_overlap['name'].values, rawg_df_not_overlap['name'].values)\n",
    "rawg_and_igdb_game_names_reduced = np.append(rawg_and_igdb_game_names_reduced, igdb_df_overlap['name'].values)"
   ]
  },
  {
   "cell_type": "code",
   "execution_count": 86,
   "metadata": {},
   "outputs": [],
   "source": [
    "# create dataframe of similarities to see which steamdb games are actually not in datasets based on Levenshtein similar function\n",
    "def similar(a,b):\n",
    "    max_similarity = (-1, '')\n",
    "    for i in b:\n",
    "        similarity = lev.ratio(a, i)\n",
    "        if (similarity > max_similarity[0]):\n",
    "            max_similarity = (similarity, i)\n",
    "    return max_similarity"
   ]
  },
  {
   "cell_type": "code",
   "execution_count": null,
   "metadata": {},
   "outputs": [],
   "source": [
    "similarities = []\n",
    "for i in steamdb_df_game_names_unique:\n",
    "    similarities.append(similar(i,rawg_and_igdb_game_names_reduced))\n",
    "similarities_name = np.array([x[1] for x in similarities])\n",
    "similarities_value = np.array([x[0] for x in similarities])\n",
    "similarities_df = pd.DataFrame({'original_name':steamdb_df_game_names_unique, 'matched_name':similarities_name,'value':similarities_value})\n",
    "similarities_df.to_csv('similarities.csv')"
   ]
  },
  {
   "cell_type": "code",
   "execution_count": 182,
   "metadata": {},
   "outputs": [],
   "source": [
    "# how many steamdb games are not in combined dataset\n",
    "unique_steamdb_games = similarities_df[similarities_df['value'] < 0.75]"
   ]
  },
  {
   "cell_type": "code",
   "execution_count": 12,
   "metadata": {},
   "outputs": [],
   "source": [
    "# unused games in igdb dataset that dont have ratings\n",
    "good_unused_igdb_games = igdb_games_df[(igdb_games_df['total_rating'].isna()) & (~igdb_games_df['slug'].isin(combined_df['slug'])) & (~igdb_games_df['genres'].isna()) & (~igdb_games_df['summary'].isna()) & (~igdb_games_df['cover'].isna()) & (~igdb_games_df['id'].isin(combined_df['id_igdb']))]"
   ]
  },
  {
   "cell_type": "code",
   "execution_count": 90,
   "metadata": {},
   "outputs": [],
   "source": [
    "# find which games in steamdb are in combined_df\n",
    "steamdb_to_already_rated_games_similarities = []\n",
    "for i in steamdb_df['name'].values:\n",
    "    steamdb_to_already_rated_games_similarities.append(similar(i,combined_df['name'].values))\n",
    "steamdb_to_already_rated_games_similarities_values = np.array(steamdb_to_already_rated_games_similarities)[:,0].astype(np.float64)\n",
    "steamdb_to_already_rated_games_similarities_names = np.array(steamdb_to_already_rated_games_similarities)[:,1]\n",
    "steamdb_to_already_rated_games_similarities_df = pd.DataFrame({'original_name':steamdb_df['name'].values, 'matched_name':steamdb_to_already_rated_games_similarities_names,'value':steamdb_to_already_rated_games_similarities_values})\n",
    "steamdb_to_already_rated_games_similarities_df.to_csv('steamdb_to_already_rated_games_similarities.csv')"
   ]
  },
  {
   "cell_type": "code",
   "execution_count": 246,
   "metadata": {},
   "outputs": [],
   "source": [
    "# find steamdb games that are in unused igdb games\n",
    "more_similarities = []\n",
    "for i in unique_steamdb_games['original_name'].values:\n",
    "    more_similarities.append(similar(i,good_unused_igdb_games['name'].values))\n",
    "more_similarities_values = np.array(more_similarities)[:,0].astype(np.float64)\n",
    "more_similarities_names = np.array(more_similarities)[:,1]\n",
    "more_similarities_df = pd.DataFrame({'original_name':unique_steamdb_games['original_name'].values, 'matched_name':more_similarities_names,'value':more_similarities_values})\n",
    "more_similarities_df.to_csv('more_similarities.csv')"
   ]
  },
  {
   "cell_type": "code",
   "execution_count": 219,
   "metadata": {},
   "outputs": [],
   "source": [
    "# adjust ratings and rating counts in combined df to use values from steamdb if game name similarity is greather than 0.95\n",
    "steamdb_similarities_in_combined_df = steamdb_to_already_rated_games_similarities_df[(steamdb_to_already_rated_games_similarities_df['value'] > 0.95)]\n",
    "def use_steamdb_rating(name):\n",
    "    if name in (steamdb_similarities_in_combined_df['matched_name'].values):\n",
    "        original_name = steamdb_similarities_in_combined_df[steamdb_similarities_in_combined_df['matched_name'] == name]['original_name'].values[0]\n",
    "        return steamdb_df[steamdb_df['name'] == original_name]['rating'].values[0]\n",
    "    else:\n",
    "        return combined_df[combined_df['name'] == name]['rating'].values[0]\n",
    "def use_steamdb_rating_counts(name):\n",
    "    if name in (steamdb_similarities_in_combined_df['matched_name'].values):\n",
    "        original_name = steamdb_similarities_in_combined_df[steamdb_similarities_in_combined_df['matched_name'] == name]['original_name'].values[0]\n",
    "        rating_count = steamdb_df[steamdb_df['name'] == original_name]['rating_count'].values[0]\n",
    "        return rating_count if rating_count > combined_df[combined_df['name'] == name]['ratings_count'].values[0] else combined_df[combined_df['name'] == name]['ratings_count'].values[0]\n",
    "    else:\n",
    "        return combined_df[combined_df['name'] == name]['ratings_count'].values[0]\n",
    "combined_df['rating'] = combined_df['name'].apply(use_steamdb_rating)\n",
    "combined_df['ratings_count'] = combined_df['name'].apply(use_steamdb_rating_counts)"
   ]
  },
  {
   "cell_type": "code",
   "execution_count": 90,
   "metadata": {},
   "outputs": [],
   "source": [
    "steamdb_similarities_in_igdb = more_similarities_df[(more_similarities_df['value'] > 0.8)]"
   ]
  },
  {
   "cell_type": "code",
   "execution_count": 91,
   "metadata": {},
   "outputs": [],
   "source": [
    "steamdb_games_in_igdb = steamdb_df[steamdb_df['name'].isin(steamdb_similarities_in_igdb['original_name'])]\n",
    "igdb_games_in_steamdb_df = good_unused_igdb_games[good_unused_igdb_games['name'].isin(steamdb_similarities_in_igdb['matched_name'])]"
   ]
  },
  {
   "cell_type": "code",
   "execution_count": 92,
   "metadata": {},
   "outputs": [],
   "source": [
    "def insert_steamdb_rating_unused(name):\n",
    "    return steamdb_games_in_igdb[steamdb_games_in_igdb['name'].isin(steamdb_similarities_in_igdb[steamdb_similarities_in_igdb['matched_name'] == name]['original_name'])]['rating'].values[0]\n",
    "def insert_steamdb_rating_count_unused(name):\n",
    "    return steamdb_games_in_igdb[steamdb_games_in_igdb['name'].isin(steamdb_similarities_in_igdb[steamdb_similarities_in_igdb['matched_name'] == name]['original_name'])]['rating_count'].values[0]"
   ]
  },
  {
   "cell_type": "code",
   "execution_count": null,
   "metadata": {},
   "outputs": [],
   "source": [
    "igdb_games_in_steamdb_df['total_rating'] = igdb_games_in_steamdb_df['name'].apply(insert_steamdb_rating_unused)\n",
    "igdb_games_in_steamdb_df['total_rating_count'] = igdb_games_in_steamdb_df['name'].apply(insert_steamdb_rating_count_unused)\n",
    "igdb_games_in_steamdb_df = igdb_games_in_steamdb_df.drop(igdb_drop_fields, axis = 1)\n",
    "igdb_games_in_steamdb_df = igdb_games_in_steamdb_df.rename({'first_release_date':'release_date','id':'id_igdb','cover':'image','total_rating':'rating','total_rating_count':'ratings_count'}, axis = 1)\n",
    "igdb_games_in_steamdb_df['genres'] = igdb_games_in_steamdb_df['genres'].apply(genre_id_list_to_str_list)\n",
    "igdb_games_in_steamdb_df['genres'] = igdb_games_in_steamdb_df['genres'].apply(genre_change)\n",
    "igdb_games_in_steamdb_df['platforms'] = igdb_games_in_steamdb_df['platforms'].apply(platform_id_to_list)\n",
    "igdb_games_in_steamdb_df['platforms'] = igdb_games_in_steamdb_df['platforms'].apply(platform_change)\n",
    "igdb_games_in_steamdb_df['image'] = igdb_games_in_steamdb_df['image'].apply(cover_id_to_uri)\n",
    "igdb_games_in_steamdb_df['tags'] = igdb_games_in_steamdb_df['tags'].apply(tag_hash_to_tag_list)\n",
    "igdb_games_in_steamdb_df['age_ratings'] = igdb_games_in_steamdb_df['age_ratings'].apply(age_rating_str_to_list)\n",
    "igdb_games_in_steamdb_df['similar_games'] = igdb_games_in_steamdb_df['similar_games'].apply(similar_games_ids_to_games_list)\n",
    "igdb_games_in_steamdb_df['release_date'] = pd.to_datetime(igdb_games_df_reduced['release_date']).dt.strftime('%Y-%m-%d')\n",
    "combined_df = combined_df.append(igdb_games_in_steamdb_df)"
   ]
  },
  {
   "cell_type": "code",
   "execution_count": 241,
   "metadata": {},
   "outputs": [],
   "source": [
    "good_unused_igdb_games = good_unused_igdb_games[(~good_unused_igdb_games['id'].isin(combined_df['id_igdb']))]\n",
    "good_unused_igdb_games = good_unused_igdb_games[(~good_unused_igdb_games['platforms'].isna()) & (~good_unused_igdb_games['similar_games'].isna())]\n",
    "good_unused_igdb_games = good_unused_igdb_games.drop(igdb_drop_fields, axis = 1)\n",
    "good_unused_igdb_games = good_unused_igdb_games.rename({'id':'id_igdb','first_release_date':'release_date','total_rating':'rating','total_rating_count':'ratings_count'}, axis = 1)\n",
    "good_unused_igdb_games['genres'] = good_unused_igdb_games['genres'].apply(genre_id_list_to_str_list)\n",
    "good_unused_igdb_games['genres'] = good_unused_igdb_games['genres'].apply(genre_change)\n",
    "good_unused_igdb_games['image'] = good_unused_igdb_games['image'].apply(cover_id_to_uri)\n",
    "good_unused_igdb_games['tags'] = good_unused_igdb_games['tags'].apply(tag_hash_to_tag_list)\n",
    "good_unused_igdb_games.columns\n",
    "good_unused_igdb_games['age_ratings'] = good_unused_igdb_games['age_ratings'].apply(age_rating_str_to_list)\n",
    "good_unused_igdb_games['similar_games'] = good_unused_igdb_games['similar_games'].apply(similar_games_ids_to_games_list)\n",
    "good_unused_igdb_games['release_date'] = pd.to_datetime(igdb_games_df_reduced['release_date']).dt.strftime('%Y-%m-%d')\n",
    "good_unused_igdb_games['platforms']\n",
    "good_unused_igdb_games['platforms'] = good_unused_igdb_games['platforms'].apply(platform_id_to_list)\n",
    "good_unused_igdb_games['platforms'] = good_unused_igdb_games['platforms'].apply(platform_change)"
   ]
  },
  {
   "cell_type": "code",
   "execution_count": 119,
   "metadata": {},
   "outputs": [],
   "source": [
    "combined_df.to_csv('final_combined_df.csv')"
   ]
  },
  {
   "cell_type": "code",
   "execution_count": 2,
   "metadata": {},
   "outputs": [
    {
     "name": "stderr",
     "output_type": "stream",
     "text": [
      "C:\\Users\\Grayson Kornberg\\AppData\\Local\\Temp\\ipykernel_6832\\2938229266.py:1: DtypeWarning: Columns (10) have mixed types. Specify dtype option on import or set low_memory=False.\n",
      "  final_df = pd.read_csv('final_combined_df.csv',index_col=[0])\n"
     ]
    }
   ],
   "source": [
    "final_df = pd.read_csv('final_combined_df.csv',index_col=[0])"
   ]
  },
  {
   "cell_type": "code",
   "execution_count": 8,
   "metadata": {},
   "outputs": [],
   "source": [
    "final_df = final_df.reset_index().drop(['index'], axis = 1)"
   ]
  },
  {
   "cell_type": "code",
   "execution_count": 19,
   "metadata": {},
   "outputs": [],
   "source": [
    "final_df = final_df.drop(['id_igdb', 'id_rawg', 'slug'], axis = 1).rename({'ratings_count':'ratingCount','summary':'description','release_date':'releaseDate','age_rating':'ageRatings','image':'imageUrl','similar_games':'similarGames'}, axis = 1)"
   ]
  },
  {
   "cell_type": "code",
   "execution_count": 21,
   "metadata": {},
   "outputs": [],
   "source": [
    "final_df.to_json('data.json', orient='index')"
   ]
  },
  {
   "cell_type": "code",
   "execution_count": 22,
   "metadata": {},
   "outputs": [],
   "source": [
    "final_df.to_csv('final_df_js.csv')"
   ]
  },
  {
   "cell_type": "code",
   "execution_count": 16,
   "metadata": {},
   "outputs": [],
   "source": [
    "json_columns = ['index','name','description','rating','ratingCount','releaseDate','genres','platforms','tags','ageRatings','imageUrl','similarGames', 'url']"
   ]
  }
 ],
 "metadata": {
  "kernelspec": {
   "display_name": "Python 3.10.5 ('game-sort': venv)",
   "language": "python",
   "name": "python3"
  },
  "language_info": {
   "codemirror_mode": {
    "name": "ipython",
    "version": 3
   },
   "file_extension": ".py",
   "mimetype": "text/x-python",
   "name": "python",
   "nbconvert_exporter": "python",
   "pygments_lexer": "ipython3",
   "version": "3.10.5"
  },
  "orig_nbformat": 4,
  "vscode": {
   "interpreter": {
    "hash": "e15de5278f60057d9a69a09b1645a14b1cd3d70f735130179d21731d43c50758"
   }
  }
 },
 "nbformat": 4,
 "nbformat_minor": 2
}
